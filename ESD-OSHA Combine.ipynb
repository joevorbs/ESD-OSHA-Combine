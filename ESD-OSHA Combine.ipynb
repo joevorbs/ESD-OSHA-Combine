{
 "cells": [
  {
   "cell_type": "code",
   "execution_count": 254,
   "metadata": {},
   "outputs": [],
   "source": [
    "import pandas as pd\n",
    "import numpy as np\n",
    "from openpyxl import load_workbook\n",
    "import shutil\n",
    "import win32com.client\n",
    "import time"
   ]
  },
  {
   "cell_type": "code",
   "execution_count": 255,
   "metadata": {},
   "outputs": [],
   "source": [
    "#Date of report refresh\n",
    "TodaysDate = time.strftime(\"%#m/%d/%Y\")"
   ]
  },
  {
   "cell_type": "code",
   "execution_count": 256,
   "metadata": {},
   "outputs": [],
   "source": [
    "#Set path and excel writer for the safety data workbook\n",
    "xlsx_path = 'C:/Users/vorbej1/desktop/Safety Data.xlsx'\n",
    "book = load_workbook(xlsx_path)"
   ]
  },
  {
   "cell_type": "code",
   "execution_count": 257,
   "metadata": {},
   "outputs": [],
   "source": [
    "#Remove sheets from previous report to overwrite with most updated\n",
    "esd_sheet=book['ESD']\n",
    "osha_sheet=book['OSHA and NMGC']\n",
    "book.remove(esd_sheet)\n",
    "book.remove(osha_sheet)"
   ]
  },
  {
   "cell_type": "code",
   "execution_count": 258,
   "metadata": {},
   "outputs": [],
   "source": [
    "#Initialize the excel writer\n",
    "writer = pd.ExcelWriter(xlsx_path, engine = 'openpyxl')\n",
    "writer.book = book"
   ]
  },
  {
   "cell_type": "code",
   "execution_count": 259,
   "metadata": {},
   "outputs": [],
   "source": [
    "#Onedrive path for final report\n",
    "od_path = 'C:/Users/vorbej1/National Grid/Kearns, Joseph M. - Metrics Heirachy/VP Scorecards/'"
   ]
  },
  {
   "cell_type": "code",
   "execution_count": 260,
   "metadata": {},
   "outputs": [],
   "source": [
    "#Setup application to open excel document\n",
    "app = win32com.client.Dispatch(\"Excel.Application\")"
   ]
  },
  {
   "cell_type": "code",
   "execution_count": 261,
   "metadata": {},
   "outputs": [],
   "source": [
    "#Identify sheet in excel workbook\n",
    "pop_summary = pd.ExcelFile('X:/Data/Population Summary/Pd03 HR Population Summary 6.30.2019.xlsx')\n",
    "sheet=[item for item in pop_summary.sheet_names if 'Population' in item]"
   ]
  },
  {
   "cell_type": "code",
   "execution_count": 262,
   "metadata": {},
   "outputs": [],
   "source": [
    "#Read in hierarchy file\n",
    "hier2 = pd.read_excel('X:/Data/Population Summary/Pd03 HR Population Summary 6.30.2019.xlsx', sheet_name=sheet[0],\\\n",
    "                                                       dtype={'CA Personnel Number':str,'CA Supervisor Personnel Number':str,'Labor type':str,\\\n",
    "                                                              'CA L03 Cost Center':str})"
   ]
  },
  {
   "cell_type": "code",
   "execution_count": 263,
   "metadata": {},
   "outputs": [],
   "source": [
    "#Read in scraped safety metrics\n",
    "nmgc = pd.read_excel('X:/Ying_Ba/MH - Safety Metrics/Input/incidents_report.xls')\n",
    "prev_rtc_osha = pd.read_excel('X:/Ying_Ba/MH - Safety Metrics/Input/ims_report.xls')\n",
    "esd = pd.read_excel('X:/Ying_Ba/MH - Safety Metrics/Input/asses_perf_report.xls')"
   ]
  },
  {
   "cell_type": "code",
   "execution_count": 264,
   "metadata": {},
   "outputs": [],
   "source": [
    "#Format NMGC report\n",
    "nmgc_2 = nmgc.rename(columns={'Employee EMPLID': 'Employee ID', 'Incident Type': 'Incident Class'})\n",
    "nmgc_2 = nmgc_2[['Employee ID','Incident Class']]"
   ]
  },
  {
   "cell_type": "code",
   "execution_count": 265,
   "metadata": {},
   "outputs": [],
   "source": [
    "#Format OSHA report\n",
    "prev_rtc_osha2 = prev_rtc_osha.rename(columns={'Emp ID': 'Employee ID'})\n",
    "prev_rtc_osha2 = prev_rtc_osha2[['Employee ID', 'Incident Class']]\n",
    "prev_rtc_osha2['Employee ID'] = prev_rtc_osha2['Employee ID'].astype(str)"
   ]
  },
  {
   "cell_type": "code",
   "execution_count": 266,
   "metadata": {},
   "outputs": [],
   "source": [
    "#Format ESD report\n",
    "esd_2 = esd.rename(columns={'EMPLID': 'Employee ID'})\n",
    "esd_2['Employee ID'] = esd_2['Employee ID'].astype(str)"
   ]
  },
  {
   "cell_type": "code",
   "execution_count": 267,
   "metadata": {},
   "outputs": [],
   "source": [
    "#Combine osha reportables and nmgc report\n",
    "osha_and_nmgc = pd.concat([nmgc_2,prev_rtc_osha2])"
   ]
  },
  {
   "cell_type": "code",
   "execution_count": 268,
   "metadata": {},
   "outputs": [],
   "source": [
    "#Merge hierarchy with combined OSHA/NMGC report\n",
    "osha_and_nmgc = pd.merge(osha_and_nmgc, hier2, left_on='Employee ID', right_on='CA Personnel Number')"
   ]
  },
  {
   "cell_type": "code",
   "execution_count": 269,
   "metadata": {},
   "outputs": [],
   "source": [
    "#Initialize empty columns for safety targets & rundate of report\n",
    "osha_and_nmgc['LTI FYTD Target'] = ''\n",
    "osha_and_nmgc['Prev RTC FYTD Target'] = ''\n",
    "osha_and_nmgc['OSHA FYTD Target'] = ''\n",
    "osha_and_nmgc['Refresh Date'] = TodaysDate\n",
    "esd_2['Refresh Date'] = TodaysDate"
   ]
  },
  {
   "cell_type": "code",
   "execution_count": 270,
   "metadata": {},
   "outputs": [],
   "source": [
    "#Apply target numbers - hardcode as they are set for the year\n",
    "osha_and_nmgc.loc[osha_and_nmgc['CA L04 Cost Center'] == 'Gas Field Operations-NY', 'LTI FYTD Target'] = 7\n",
    "osha_and_nmgc.loc[osha_and_nmgc['CA L04 Cost Center'] == 'Gas Field Operations-NY', 'Prev RTC FYTD Target'] = 10\n",
    "osha_and_nmgc.loc[osha_and_nmgc['CA L04 Cost Center'] == 'Gas Field Operations-NY', 'OSHA FYTD Target'] = 27"
   ]
  },
  {
   "cell_type": "code",
   "execution_count": 271,
   "metadata": {},
   "outputs": [],
   "source": [
    "osha_and_nmgc.loc[osha_and_nmgc['CA L04 Cost Center'] == 'Gas Field Operations-NE', 'LTI FYTD Target'] = 4\n",
    "osha_and_nmgc.loc[osha_and_nmgc['CA L04 Cost Center'] == 'Gas Field Operations-NE', 'Prev RTC FYTD Target'] = 13\n",
    "osha_and_nmgc.loc[osha_and_nmgc['CA L04 Cost Center'] == 'Gas Field Operations-NE', 'OSHA FYTD Target'] = 22"
   ]
  },
  {
   "cell_type": "code",
   "execution_count": 272,
   "metadata": {},
   "outputs": [],
   "source": [
    "osha_and_nmgc.loc[osha_and_nmgc['CA L04 Cost Center'] == 'US Gas Engineering', 'LTI FYTD Target'] = 0\n",
    "osha_and_nmgc.loc[osha_and_nmgc['CA L04 Cost Center'] == 'US Gas Engineering', 'Prev RTC FYTD Target'] = 3\n",
    "osha_and_nmgc.loc[osha_and_nmgc['CA L04 Cost Center'] == 'US Gas Engineering', 'OSHA FYTD Target'] = 2"
   ]
  },
  {
   "cell_type": "code",
   "execution_count": 273,
   "metadata": {},
   "outputs": [],
   "source": [
    "#Write to Safety Metrics workbook\n",
    "osha_and_nmgc.to_csv('C:/Users/vorbej1/desktop/OSHA and NMGC.csv')\n",
    "osha_and_nmgc.to_excel(writer, sheet_name = 'OSHA and NMGC')"
   ]
  },
  {
   "cell_type": "code",
   "execution_count": 274,
   "metadata": {},
   "outputs": [],
   "source": [
    "#Merge hierarchy with ESD report\n",
    "esd_final = pd.merge(esd_2, hier2, left_on='Employee ID', right_on='CA Personnel Number')"
   ]
  },
  {
   "cell_type": "code",
   "execution_count": 275,
   "metadata": {},
   "outputs": [],
   "source": [
    "#Write to Safety Metrics workbook\n",
    "esd_final.to_csv('C:/Users/vorbej1/desktop/ESD and Hier.csv')\n",
    "esd_final.to_excel(writer, sheet_name = 'ESD')"
   ]
  },
  {
   "cell_type": "code",
   "execution_count": 276,
   "metadata": {},
   "outputs": [],
   "source": [
    "#Save and close workbook\n",
    "writer.save()\n",
    "writer.close()"
   ]
  },
  {
   "cell_type": "code",
   "execution_count": 278,
   "metadata": {},
   "outputs": [
    {
     "data": {
      "text/plain": [
       "'C:/Users/vorbej1/National Grid/Kearns, Joseph M. - Metrics Heirachy/VP Scorecards/Safety Data.xlsx'"
      ]
     },
     "execution_count": 278,
     "metadata": {},
     "output_type": "execute_result"
    }
   ],
   "source": [
    "#Move file to onedrive to be utilized for tableau dashboard\n",
    "shutil.copyfile(xlsx_path, od_path + xlsx_path[25:])"
   ]
  }
 ],
 "metadata": {
  "kernelspec": {
   "display_name": "Python 3",
   "language": "python",
   "name": "python3"
  },
  "language_info": {
   "codemirror_mode": {
    "name": "ipython",
    "version": 3
   },
   "file_extension": ".py",
   "mimetype": "text/x-python",
   "name": "python",
   "nbconvert_exporter": "python",
   "pygments_lexer": "ipython3",
   "version": "3.7.1"
  }
 },
 "nbformat": 4,
 "nbformat_minor": 2
}
